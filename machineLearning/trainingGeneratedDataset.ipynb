{
 "cells": [
  {
   "cell_type": "code",
   "execution_count": 1,
   "metadata": {},
   "outputs": [],
   "source": [
    "###########################\n",
    "# IMPORT\n",
    "import numpy as np\n",
    "import pandas as pd\n",
    "from sklearn.model_selection import StratifiedShuffleSplit, GridSearchCV, cross_val_score\n",
    "######################################"
   ]
  },
  {
   "cell_type": "markdown",
   "metadata": {},
   "source": [
    "#Caricamento dati"
   ]
  },
  {
   "cell_type": "code",
   "execution_count": 6,
   "metadata": {},
   "outputs": [],
   "source": [
    "#train_df = pd.read_csv(\"train_net.csv\")\n",
    "train_df = pd.read_csv(\"trafficoGenerato.csv\")"
   ]
  },
  {
   "cell_type": "markdown",
   "metadata": {},
   "source": [
    "#Elaborazione dati "
   ]
  },
  {
   "cell_type": "code",
   "execution_count": null,
   "metadata": {},
   "outputs": [
    {
     "name": "stdout",
     "output_type": "stream",
     "text": [
      "Train set distribution:\n",
      "alert\n",
      "No Alert     0.780945\n",
      "Port Scan    0.219055\n",
      "Name: proportion, dtype: float64\n",
      "\n",
      "Validation set distribution:\n",
      "alert\n",
      "No Alert     0.782468\n",
      "Port Scan    0.217532\n",
      "Name: proportion, dtype: float64\n"
     ]
    }
   ],
   "source": [
    "from sklearn.model_selection import train_test_split\n",
    "\n",
    "#columns_to_exclude = ['SERVICE','IPV4_SRC_ADDR', 'IPV4_DST_ADDR','ANALYSIS_TIMESTAMP']\n",
    "columns_to_exclude = ['ip_src', 'ip_dst']\n",
    "train_data = train_df.drop(columns=columns_to_exclude)\n",
    "\n",
    "# Prepara le feature e il target per il training set\n",
    "X_train = train_data.drop('alert', axis=1)\n",
    "y_train = train_data['alert']\n",
    "\n",
    "\n",
    "# Gestisci i valori NaN nelle feature\n",
    "X_train = X_train.fillna(X_train.mean(numeric_only=True)).fillna('MISSING')\n",
    "\n",
    "# Gestisci i valori NaN nel target\n",
    "y_train = y_train.fillna(y_train.mode()[0])\n",
    "\n",
    "# Create dummy columns for the PROTOCOL MAP column\n",
    "\n",
    "flags_dummies = pd.get_dummies(X_train['flags'], prefix='flags', drop_first=True) # drop_first=True per evitare la multi-collinearità\n",
    "\n",
    "# Rimuovi le colonne originali e aggiungi le nuove colonne numeriche\n",
    "X_train = X_train.drop(['flags'], axis=1)  # Rimuove le colonne testuali\n",
    "X_train = pd.concat([X_train, flags_dummies], axis=1)\n",
    "\n",
    "#print(X_train.dtypes)\n",
    "\n",
    "def split_maintain_distribution(X, y):\n",
    "  sss=StratifiedShuffleSplit(n_splits=1, test_size=0.2, random_state=9)\n",
    "  indexes = sss.split(X, y)\n",
    "  train_indices, test_indices = next(indexes)\n",
    "  return X.iloc[train_indices], X.iloc[test_indices], y.iloc[train_indices], y.iloc[test_indices]\n",
    "\n",
    "X_train, X_val, y_train, y_val = split_maintain_distribution(X_train, y_train)\n",
    "\n",
    "print('Train set distribution:')\n",
    "print(y_train.value_counts(normalize=True))\n",
    "print()\n",
    "print('Validation set distribution:')\n",
    "print(y_val.value_counts(normalize=True))\n"
   ]
  },
  {
   "cell_type": "markdown",
   "metadata": {},
   "source": [
    "#Data scaling"
   ]
  },
  {
   "cell_type": "code",
   "execution_count": 13,
   "metadata": {},
   "outputs": [],
   "source": [
    "from sklearn.preprocessing import StandardScaler\n",
    "import joblib\n",
    "\n",
    "# Fix scaler on train set\n",
    "scaler = StandardScaler()\n",
    "fitter = scaler.fit(X_train)\n",
    "\n",
    "joblib.dump(fitter, 'scaler.joblib')\n",
    "\n",
    "# Scale train and validation sets\n",
    "x_train_scaled = fitter.transform(X_train)\n",
    "x_validation_scaled = fitter.transform(X_val)\n",
    "\n",
    "# Convert to pandas dataframe\n",
    "df_feat_train = pd.DataFrame(x_train_scaled, columns=X_train.columns)\n",
    "df_feat_validation = pd.DataFrame(x_validation_scaled, columns=X_val.columns)"
   ]
  },
  {
   "cell_type": "markdown",
   "metadata": {},
   "source": [
    "#Addestramento con Random Forest"
   ]
  },
  {
   "cell_type": "code",
   "execution_count": 12,
   "metadata": {},
   "outputs": [
    {
     "name": "stdout",
     "output_type": "stream",
     "text": [
      "Validation Accuracy: 100.00%\n"
     ]
    }
   ],
   "source": [
    "from sklearn.ensemble import RandomForestClassifier\n",
    "from sklearn.metrics import accuracy_score, classification_report\n",
    "from joblib import dump\n",
    "\n",
    "# Inizializzazione del classificatore Random Forest\n",
    "rf_model = RandomForestClassifier(n_estimators=100, random_state=42)\n",
    "\n",
    "# Addestramento del modello\n",
    "rf_model.fit(df_feat_train, y_train)\n",
    "\n",
    "# Salva il modello addestrato in un file .joblib\n",
    "dump(rf_model, 'modello_addestrato_datiGenerati.joblib')\n",
    "\n",
    "# Valutazione sul validation set\n",
    "val_predictions = rf_model.predict(df_feat_validation)\n",
    "val_accuracy = accuracy_score(y_val, val_predictions) * 100\n",
    "print(f'Validation Accuracy: {val_accuracy:.2f}%')\n"
   ]
  },
  {
   "cell_type": "markdown",
   "metadata": {},
   "source": [
    "#Valutazione modello"
   ]
  },
  {
   "cell_type": "code",
   "execution_count": 14,
   "metadata": {},
   "outputs": [
    {
     "name": "stdout",
     "output_type": "stream",
     "text": [
      "Classification Report:\n",
      "              precision    recall  f1-score   support\n",
      "\n",
      "         DOS       1.00      1.00      1.00       134\n",
      "    No Alert       1.00      1.00      1.00       198\n",
      "\n",
      "    accuracy                           1.00       332\n",
      "   macro avg       1.00      1.00      1.00       332\n",
      "weighted avg       1.00      1.00      1.00       332\n",
      "\n",
      "Confusion Matrix:\n",
      "[[134   0]\n",
      " [  0 198]]\n"
     ]
    }
   ],
   "source": [
    "from sklearn.metrics import classification_report, confusion_matrix\n",
    "\n",
    "# Calcolo di precision, recall e F1-score\n",
    "print(\"Classification Report:\")\n",
    "print(classification_report(y_val, val_predictions))\n",
    "\n",
    "# Calcolo della matrice di confusione\n",
    "conf_matrix = confusion_matrix(y_val, val_predictions)\n",
    "print(\"Confusion Matrix:\")\n",
    "print(conf_matrix)"
   ]
  }
 ],
 "metadata": {
  "kernelspec": {
   "display_name": "Python 3",
   "language": "python",
   "name": "python3"
  },
  "language_info": {
   "codemirror_mode": {
    "name": "ipython",
    "version": 3
   },
   "file_extension": ".py",
   "mimetype": "text/x-python",
   "name": "python",
   "nbconvert_exporter": "python",
   "pygments_lexer": "ipython3",
   "version": "3.10.5"
  }
 },
 "nbformat": 4,
 "nbformat_minor": 2
}
