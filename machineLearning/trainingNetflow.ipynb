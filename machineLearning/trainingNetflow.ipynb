{
 "cells": [
  {
   "cell_type": "code",
   "execution_count": 1,
   "metadata": {},
   "outputs": [],
   "source": [
    "###########################\n",
    "# IMPORT\n",
    "import numpy as np\n",
    "import pandas as pd\n",
    "from sklearn.model_selection import StratifiedShuffleSplit, GridSearchCV, cross_val_score\n",
    "######################################"
   ]
  },
  {
   "cell_type": "markdown",
   "metadata": {},
   "source": [
    "#Caricamento dati"
   ]
  },
  {
   "cell_type": "code",
   "execution_count": 3,
   "metadata": {},
   "outputs": [],
   "source": [
    "train_df = pd.read_csv(\"train_net.csv\")"
   ]
  },
  {
   "cell_type": "markdown",
   "metadata": {},
   "source": [
    "#Elaborazione dati "
   ]
  },
  {
   "cell_type": "code",
   "execution_count": 4,
   "metadata": {},
   "outputs": [
    {
     "name": "stdout",
     "output_type": "stream",
     "text": [
      "L4_SRC_PORT                 int64\n",
      "L4_DST_PORT                 int64\n",
      "TCP_FLAGS                   int64\n",
      "TCP_WIN_MAX_IN              int64\n",
      "TCP_WIN_MAX_OUT             int64\n",
      "TCP_WIN_MIN_IN              int64\n",
      "TCP_WIN_MIN_OUT             int64\n",
      "TCP_WIN_MSS_IN              int64\n",
      "TCP_WIN_SCALE_IN            int64\n",
      "TCP_WIN_SCALE_OUT           int64\n",
      "SRC_TOS                     int64\n",
      "DST_TOS                     int64\n",
      "TOTAL_FLOWS_EXP             int64\n",
      "IN_BYTES                    int64\n",
      "IN_PKTS                     int64\n",
      "OUT_BYTES                   int64\n",
      "OUT_PKTS                    int64\n",
      "ANOMALY                   float64\n",
      "PROTOCOL_MAP_icmp            bool\n",
      "PROTOCOL_MAP_ipv6            bool\n",
      "PROTOCOL_MAP_ipv6-icmp       bool\n",
      "PROTOCOL_MAP_skip            bool\n",
      "PROTOCOL_MAP_tcp             bool\n",
      "PROTOCOL_MAP_udp             bool\n",
      "dtype: object\n",
      "Train set distribution:\n",
      "ALERT\n",
      "No Alert             0.867550\n",
      "Port Scanning        0.120410\n",
      "Denial of Service    0.011948\n",
      "Malware              0.000092\n",
      "Name: proportion, dtype: float64\n",
      "\n",
      "Validation set distribution:\n",
      "ALERT\n",
      "No Alert             0.867550\n",
      "Port Scanning        0.120410\n",
      "Denial of Service    0.011947\n",
      "Malware              0.000092\n",
      "Name: proportion, dtype: float64\n"
     ]
    }
   ],
   "source": [
    "from sklearn.model_selection import train_test_split\n",
    "\n",
    "# Converti i nomi delle colonne in maiuscolo\n",
    "train_df.columns = train_df.columns.str.upper()\n",
    "\n",
    "# Sostituisci i valori mancanti con No Alert nella colonna ALERT\n",
    "train_df['ALERT'] = train_df['ALERT'].fillna('No Alert')\n",
    "\n",
    "#print(train_df['ALERT'].value_counts())\n",
    "\n",
    "# Escludi le variabili non desiderate\n",
    "columns_to_exclude = ['FIRST_SWITCHED', 'FLOW_DURATION_MILLISECONDS', 'LAST_SWITCHED', 'PROTOCOL', 'ID', 'FLOW_ID', \n",
    "                      'ANALYSIS_TIMESTAMP','MIN_IP_PKT_LEN', 'MAX_IP_PKT_LEN','TOTAL_PKTS_EXP', 'IPV4_SRC_ADDR', 'IPV4_DST_ADDR',\n",
    "                      'TOTAL_BYTES_EXP']\n",
    "train_data = train_df.drop(columns=columns_to_exclude)\n",
    "\n",
    "# Prepara le feature e il target per il training set\n",
    "X_train = train_data.drop('ALERT', axis=1)\n",
    "y_train = train_data['ALERT']\n",
    "\n",
    "\n",
    "# Gestisci i valori NaN nelle feature\n",
    "X_train = X_train.fillna(X_train.mean(numeric_only=True)).fillna('MISSING')\n",
    "\n",
    "# Gestisci i valori NaN nel target\n",
    "y_train = y_train.fillna(y_train.mode()[0])\n",
    "\n",
    "# Create dummy columns for the PROTOCOL MAP column\n",
    "protocol_dummies = pd.get_dummies(X_train['PROTOCOL_MAP'], prefix='PROTOCOL_MAP', drop_first=True) # drop_first=True per evitare la multi-collinearità\n",
    "\n",
    "# Rimuovi le colonne originali e aggiungi le nuove colonne numeriche\n",
    "X_train = X_train.drop(['PROTOCOL_MAP'], axis=1)  # Rimuove le colonne testuali\n",
    "X_train = pd.concat([X_train, protocol_dummies], axis=1)\n",
    "\n",
    "print(X_train.dtypes)\n",
    "\n",
    "def split_maintain_distribution(X, y):\n",
    "  sss=StratifiedShuffleSplit(n_splits=1, test_size=0.2, random_state=9)\n",
    "  indexes = sss.split(X, y)\n",
    "  train_indices, test_indices = next(indexes)\n",
    "  return X.iloc[train_indices], X.iloc[test_indices], y.iloc[train_indices], y.iloc[test_indices]\n",
    "\n",
    "X_train, X_val, y_train, y_val = split_maintain_distribution(X_train, y_train)\n",
    "\n",
    "print('Train set distribution:')\n",
    "print(y_train.value_counts(normalize=True))\n",
    "print()\n",
    "print('Validation set distribution:')\n",
    "print(y_val.value_counts(normalize=True))\n"
   ]
  },
  {
   "cell_type": "markdown",
   "metadata": {},
   "source": [
    "#Data scaling"
   ]
  },
  {
   "cell_type": "code",
   "execution_count": 8,
   "metadata": {},
   "outputs": [],
   "source": [
    "from sklearn.preprocessing import StandardScaler\n",
    "from joblib import dump\n",
    "\n",
    "# Fix scaler on train set\n",
    "scaler = StandardScaler()\n",
    "fitter = scaler.fit(X_train)\n",
    "# Salvare il fitter\n",
    "dump(fitter, 'scaler_fitter.joblib')\n",
    "\n",
    "# Scale train and validation sets\n",
    "x_train_scaled = fitter.transform(X_train)\n",
    "x_validation_scaled = fitter.transform(X_val)\n",
    "\n",
    "# Convert to pandas dataframe\n",
    "df_feat_train = pd.DataFrame(x_train_scaled, columns=X_train.columns)\n",
    "df_feat_validation = pd.DataFrame(x_validation_scaled, columns=X_val.columns)"
   ]
  },
  {
   "cell_type": "markdown",
   "metadata": {},
   "source": [
    "#Addestramento con Random Forest"
   ]
  },
  {
   "cell_type": "code",
   "execution_count": 14,
   "metadata": {},
   "outputs": [
    {
     "name": "stdout",
     "output_type": "stream",
     "text": [
      "Validation Accuracy: 99.99%\n"
     ]
    }
   ],
   "source": [
    "from sklearn.ensemble import RandomForestClassifier\n",
    "from sklearn.metrics import accuracy_score, classification_report\n",
    "from joblib import dump\n",
    "\n",
    "# Inizializzazione del classificatore Random Forest\n",
    "rf_model = RandomForestClassifier(n_estimators=100, random_state=42)\n",
    "\n",
    "# Addestramento del modello\n",
    "rf_model.fit(df_feat_train, y_train)\n",
    "\n",
    "# Salva il modello addestrato in un file .joblib\n",
    "dump(rf_model, 'modello_addestrato.joblib')\n",
    "\n",
    "# Valutazione sul validation set\n",
    "val_predictions = rf_model.predict(df_feat_validation)\n",
    "val_accuracy = accuracy_score(y_val, val_predictions) * 100\n",
    "print(f'Validation Accuracy: {val_accuracy:.2f}%')\n"
   ]
  },
  {
   "cell_type": "markdown",
   "metadata": {},
   "source": [
    "#Valutazione modello"
   ]
  },
  {
   "cell_type": "code",
   "execution_count": 13,
   "metadata": {},
   "outputs": [
    {
     "name": "stdout",
     "output_type": "stream",
     "text": [
      "Classification Report:\n",
      "                   precision    recall  f1-score   support\n",
      "\n",
      "Denial of Service       1.00      1.00      1.00     10078\n",
      "          Malware       1.00      0.99      0.99        78\n",
      "         No Alert       1.00      1.00      1.00    731800\n",
      "    Port Scanning       1.00      1.00      1.00    101569\n",
      "\n",
      "         accuracy                           1.00    843525\n",
      "        macro avg       1.00      1.00      1.00    843525\n",
      "     weighted avg       1.00      1.00      1.00    843525\n",
      "\n",
      "Confusion Matrix:\n",
      "[[ 10078      0      0      0]\n",
      " [     0     77      1      0]\n",
      " [     2      0 731774     24]\n",
      " [     0      0     20 101549]]\n"
     ]
    }
   ],
   "source": [
    "from sklearn.metrics import classification_report, confusion_matrix\n",
    "\n",
    "# Calcolo di precision, recall e F1-score\n",
    "print(\"Classification Report:\")\n",
    "print(classification_report(y_val, val_predictions))\n",
    "\n",
    "# Calcolo della matrice di confusione\n",
    "conf_matrix = confusion_matrix(y_val, val_predictions)\n",
    "print(\"Confusion Matrix:\")\n",
    "print(conf_matrix)"
   ]
  }
 ],
 "metadata": {
  "kernelspec": {
   "display_name": "Python 3",
   "language": "python",
   "name": "python3"
  },
  "language_info": {
   "codemirror_mode": {
    "name": "ipython",
    "version": 3
   },
   "file_extension": ".py",
   "mimetype": "text/x-python",
   "name": "python",
   "nbconvert_exporter": "python",
   "pygments_lexer": "ipython3",
   "version": "3.12.4"
  }
 },
 "nbformat": 4,
 "nbformat_minor": 2
}
